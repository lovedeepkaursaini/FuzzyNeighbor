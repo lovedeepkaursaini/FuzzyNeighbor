{
 "cells": [
  {
   "cell_type": "code",
   "execution_count": 1,
   "metadata": {},
   "outputs": [],
   "source": [
    "import pandas as pd\n",
    "from datetime import datetime\n",
    "\n",
    "def FindFuzzyNeighbors(source,target,source_column,target_column):\n",
    "    from sklearn.feature_extraction.text import CountVectorizer,TfidfVectorizer\n",
    "\n",
    "    import re\n",
    "    def ngrams(string, n=3):\n",
    "        string = re.sub(r'[,-./]|\\sBD',r'', string)\n",
    "        ngrams = zip(*[string[i:] for i in range(n)])\n",
    "        return [''.join(ngram) for ngram in ngrams]\n",
    "\n",
    "    from sklearn.neighbors import NearestNeighbors\n",
    "    \n",
    "    \n",
    "    if(source.shape[0]==0):return\n",
    "    if(target.shape[0]==0):return\n",
    "\n",
    "    train = source[source_column]#.drop_duplicates() (train on source - all the names or addresses you want to check match with)\n",
    "    test = target[target_column]#.drop_duplicates() (test using target)\n",
    "    \n",
    "    #The TF-IDF is implemented\n",
    "    t_vec = TfidfVectorizer(analyzer=ngrams,use_idf=True)\n",
    "    \n",
    "    tfidf_vec_matrix = t_vec.fit_transform(train)\n",
    "    \n",
    "    #the selection of the most matched candidate is using the K-Nearest Neighbors\n",
    "    nbrs = NearestNeighbors(n_neighbors=1, n_jobs=-1).fit(tfidf_vec_matrix)     \n",
    "\n",
    "    \n",
    "    def getNearestN(vectorizer, query):\n",
    "        queryTFIDF_ = vectorizer.transform(query)\n",
    "        t = nbrs.kneighbors(queryTFIDF_, 1, return_distance=True)\n",
    "        dist_t = t[0].tolist()\n",
    "        indx_t = t[1].tolist()\n",
    "        return dist_t, indx_t\n",
    "\n",
    "\n",
    "    import numpy as np\n",
    "    dist_t, indx_t = getNearestN(t_vec, test)\n",
    "      \n",
    "    test_indx = 0\n",
    "    \n",
    "    matches =[]\n",
    "\n",
    "    for i in range(0,len(test)):\n",
    "        \n",
    "        temp = [test.values[i], train.iloc[indx_t[i][0]], dist_t[i][0]\n",
    "                    ,levenshtein_ratio_and_distance(test.values[i],train.iloc[indx_t[i][0]],ratio_calc=True) #if you have large dataset then this will slow down the process\n",
    "               ]\n",
    "            #return\n",
    "        matches.append(temp)\n",
    "    matches = pd.DataFrame(matches,columns=['target','source','Euclidean distance','levenshtein distance'])\n",
    "    return  matches \n",
    "    \n",
    "    \n",
    "#calculate levenshtein distance\n",
    "def levenshtein_ratio_and_distance(s, t, ratio_calc = False):\n",
    "    \"\"\" levenshtein_ratio_and_distance:\n",
    "        Calculates levenshtein distance between two strings.\n",
    "        If ratio_calc = True, the function computes the\n",
    "        levenshtein distance ratio of similarity between two strings\n",
    "        For all i and j, distance[i,j] will contain the Levenshtein\n",
    "        distance between the first i characters of s and the\n",
    "        first j characters of t\n",
    "    \"\"\"\n",
    "    # Initialize matrix of zeros\n",
    "    rows = len(s)+1\n",
    "    cols = len(t)+1\n",
    "    distance = np.zeros((rows,cols),dtype = int)\n",
    "\n",
    "    # Populate matrix of zeros with the indeces of each character of both strings\n",
    "    for i in range(1, rows):\n",
    "        for k in range(1,cols):\n",
    "            distance[i][0] = i\n",
    "            distance[0][k] = k\n",
    "\n",
    "    # Iterate over the matrix to compute the cost of deletions,insertions and/or substitutions    \n",
    "    for col in range(1, cols):\n",
    "        for row in range(1, rows):\n",
    "            if s[row-1] == t[col-1]:\n",
    "                cost = 0 # If the characters are the same in the two strings in a given position [i,j] then the cost is 0\n",
    "            else:\n",
    "                # In order to align the results with those of the Python Levenshtein package, if we choose to calculate the ratio\n",
    "                # the cost of a substitution is 2. If we calculate just distance, then the cost of a substitution is 1.\n",
    "                if ratio_calc == True:\n",
    "                    cost = 2\n",
    "                else:\n",
    "                    cost = 1\n",
    "            distance[row][col] = min(distance[row-1][col] + 1,      # Cost of deletions\n",
    "                                 distance[row][col-1] + 1,          # Cost of insertions\n",
    "                                 distance[row-1][col-1] + cost)     # Cost of substitutions\n",
    "    if ratio_calc == True:\n",
    "        # Computation of the Levenshtein Distance Ratio\n",
    "        Ratio = ((len(s)+len(t)) - distance[row][col]) / (len(s)+len(t))\n",
    "        return Ratio\n",
    "    else:\n",
    "        # print(distance) # Uncomment if you want to see the matrix showing how the algorithm computes the cost of deletions,\n",
    "        # insertions and/or substitutions\n",
    "        # This is the minimum number of edits needed to convert string a to string b\n",
    "        return \"The strings are {} edits away\".format(distance[row][col])\n",
    "\n"
   ]
  },
  {
   "cell_type": "code",
   "execution_count": 2,
   "metadata": {},
   "outputs": [],
   "source": [
    "# get your dataset \n",
    "source = pd.DataFrame({'s_name':['lovedeep','lovedeep abc','lovedeep xyz'],\n",
    "                      's_address':['in city this and state that','from this country', 'from that country']\n",
    "                      })\n",
    "target = pd.DataFrame({'t_name':['lovedeep','lovedeep someone','someone as lvdeep','lovedeep xyz'],\n",
    "                      't_address':['chicago illinois','newyork illinois','city state country','from this city state country']\n",
    "                      })"
   ]
  },
  {
   "cell_type": "code",
   "execution_count": 3,
   "metadata": {},
   "outputs": [
    {
     "data": {
      "text/html": [
       "<div>\n",
       "<style scoped>\n",
       "    .dataframe tbody tr th:only-of-type {\n",
       "        vertical-align: middle;\n",
       "    }\n",
       "\n",
       "    .dataframe tbody tr th {\n",
       "        vertical-align: top;\n",
       "    }\n",
       "\n",
       "    .dataframe thead th {\n",
       "        text-align: right;\n",
       "    }\n",
       "</style>\n",
       "<table border=\"1\" class=\"dataframe\">\n",
       "  <thead>\n",
       "    <tr style=\"text-align: right;\">\n",
       "      <th></th>\n",
       "      <th>s_name</th>\n",
       "      <th>s_address</th>\n",
       "    </tr>\n",
       "  </thead>\n",
       "  <tbody>\n",
       "    <tr>\n",
       "      <th>0</th>\n",
       "      <td>lovedeep</td>\n",
       "      <td>in city this and state that</td>\n",
       "    </tr>\n",
       "    <tr>\n",
       "      <th>1</th>\n",
       "      <td>lovedeep abc</td>\n",
       "      <td>from this country</td>\n",
       "    </tr>\n",
       "    <tr>\n",
       "      <th>2</th>\n",
       "      <td>lovedeep xyz</td>\n",
       "      <td>from that country</td>\n",
       "    </tr>\n",
       "  </tbody>\n",
       "</table>\n",
       "</div>"
      ],
      "text/plain": [
       "         s_name                    s_address\n",
       "0      lovedeep  in city this and state that\n",
       "1  lovedeep abc            from this country\n",
       "2  lovedeep xyz            from that country"
      ]
     },
     "execution_count": 3,
     "metadata": {},
     "output_type": "execute_result"
    }
   ],
   "source": [
    "source"
   ]
  },
  {
   "cell_type": "code",
   "execution_count": 4,
   "metadata": {},
   "outputs": [
    {
     "data": {
      "text/html": [
       "<div>\n",
       "<style scoped>\n",
       "    .dataframe tbody tr th:only-of-type {\n",
       "        vertical-align: middle;\n",
       "    }\n",
       "\n",
       "    .dataframe tbody tr th {\n",
       "        vertical-align: top;\n",
       "    }\n",
       "\n",
       "    .dataframe thead th {\n",
       "        text-align: right;\n",
       "    }\n",
       "</style>\n",
       "<table border=\"1\" class=\"dataframe\">\n",
       "  <thead>\n",
       "    <tr style=\"text-align: right;\">\n",
       "      <th></th>\n",
       "      <th>t_name</th>\n",
       "      <th>t_address</th>\n",
       "    </tr>\n",
       "  </thead>\n",
       "  <tbody>\n",
       "    <tr>\n",
       "      <th>0</th>\n",
       "      <td>lovedeep</td>\n",
       "      <td>chicago illinois</td>\n",
       "    </tr>\n",
       "    <tr>\n",
       "      <th>1</th>\n",
       "      <td>lovedeep someone</td>\n",
       "      <td>newyork illinois</td>\n",
       "    </tr>\n",
       "    <tr>\n",
       "      <th>2</th>\n",
       "      <td>someone as lvdeep</td>\n",
       "      <td>city state country</td>\n",
       "    </tr>\n",
       "    <tr>\n",
       "      <th>3</th>\n",
       "      <td>lovedeep xyz</td>\n",
       "      <td>from this city state country</td>\n",
       "    </tr>\n",
       "  </tbody>\n",
       "</table>\n",
       "</div>"
      ],
      "text/plain": [
       "              t_name                     t_address\n",
       "0           lovedeep              chicago illinois\n",
       "1   lovedeep someone              newyork illinois\n",
       "2  someone as lvdeep            city state country\n",
       "3       lovedeep xyz  from this city state country"
      ]
     },
     "execution_count": 4,
     "metadata": {},
     "output_type": "execute_result"
    }
   ],
   "source": [
    "target"
   ]
  },
  {
   "cell_type": "code",
   "execution_count": 6,
   "metadata": {},
   "outputs": [
    {
     "name": "stdout",
     "output_type": "stream",
     "text": [
      "                         target                       source  \\\n",
      "0                      lovedeep                     lovedeep   \n",
      "1              lovedeep someone                     lovedeep   \n",
      "2             someone as lvdeep                     lovedeep   \n",
      "3                  lovedeep xyz                 lovedeep xyz   \n",
      "0              chicago illinois  in city this and state that   \n",
      "1              newyork illinois  in city this and state that   \n",
      "2            city state country  in city this and state that   \n",
      "3  from this city state country            from this country   \n",
      "\n",
      "   Euclidean distance  levenshtein distance  \n",
      "0            0.000000              1.000000  \n",
      "1            0.479281              0.666667  \n",
      "2            0.919402              0.480000  \n",
      "3            0.000000              1.000000  \n",
      "0            1.000000              0.279070  \n",
      "1            1.000000              0.279070  \n",
      "2            0.999652              0.533333  \n",
      "3            0.768778              0.755556  \n"
     ]
    }
   ],
   "source": [
    "import numpy as np\n",
    "# find all the closest matches for target dataset in source dataset and return output for all of target records that could find any match in source\n",
    "df = FindFuzzyNeighbors(source,target,'s_name','t_name') #save the output of name matches in dataframe\n",
    "df = df.append(FindFuzzyNeighbors(source,target,'s_address','t_address')) #save maches for addresses\n",
    "\n",
    "# print output\n",
    "print(df.head(10))"
   ]
  },
  {
   "cell_type": "markdown",
   "metadata": {},
   "source": [
    "#Lets try PolyFuzz \n",
    "A python package with similar and more capability\n",
    "-https://pypi.org/project/polyfuzz/"
   ]
  },
  {
   "cell_type": "code",
   "execution_count": 7,
   "metadata": {},
   "outputs": [],
   "source": [
    "from polyfuzz.models import TFIDF\n",
    "from polyfuzz import PolyFuzz\n",
    "\n",
    "model1 = PolyFuzz(\"TF-IDF\").match(source['s_name'].tolist(),target['t_name'].tolist())"
   ]
  },
  {
   "cell_type": "code",
   "execution_count": 9,
   "metadata": {},
   "outputs": [
    {
     "data": {
      "text/html": [
       "<div>\n",
       "<style scoped>\n",
       "    .dataframe tbody tr th:only-of-type {\n",
       "        vertical-align: middle;\n",
       "    }\n",
       "\n",
       "    .dataframe tbody tr th {\n",
       "        vertical-align: top;\n",
       "    }\n",
       "\n",
       "    .dataframe thead th {\n",
       "        text-align: right;\n",
       "    }\n",
       "</style>\n",
       "<table border=\"1\" class=\"dataframe\">\n",
       "  <thead>\n",
       "    <tr style=\"text-align: right;\">\n",
       "      <th></th>\n",
       "      <th>From</th>\n",
       "      <th>To</th>\n",
       "      <th>Similarity</th>\n",
       "    </tr>\n",
       "  </thead>\n",
       "  <tbody>\n",
       "    <tr>\n",
       "      <th>0</th>\n",
       "      <td>lovedeep</td>\n",
       "      <td>lovedeep</td>\n",
       "      <td>1.000</td>\n",
       "    </tr>\n",
       "    <tr>\n",
       "      <th>1</th>\n",
       "      <td>lovedeep abc</td>\n",
       "      <td>lovedeep</td>\n",
       "      <td>0.746</td>\n",
       "    </tr>\n",
       "    <tr>\n",
       "      <th>2</th>\n",
       "      <td>lovedeep xyz</td>\n",
       "      <td>lovedeep xyz</td>\n",
       "      <td>1.000</td>\n",
       "    </tr>\n",
       "  </tbody>\n",
       "</table>\n",
       "</div>"
      ],
      "text/plain": [
       "           From            To  Similarity\n",
       "0      lovedeep      lovedeep       1.000\n",
       "1  lovedeep abc      lovedeep       0.746\n",
       "2  lovedeep xyz  lovedeep xyz       1.000"
      ]
     },
     "execution_count": 9,
     "metadata": {},
     "output_type": "execute_result"
    }
   ],
   "source": [
    "model1.get_matches()"
   ]
  },
  {
   "cell_type": "markdown",
   "metadata": {},
   "source": [
    "As noticed \"PolyFuzz\" package saves only matched entries from two datasets. With above \"FuzzyNeighbours\" function, we aim to find all closest matches of \"target\" dataset with \"source\" dataset. So that we could keep track of all \"target\" records that what has matched and what not.  "
   ]
  },
  {
   "cell_type": "code",
   "execution_count": 10,
   "metadata": {},
   "outputs": [],
   "source": [
    "import matplotlib.pyplot as plt\n",
    "plt.show()"
   ]
  },
  {
   "cell_type": "code",
   "execution_count": 12,
   "metadata": {},
   "outputs": [
    {
     "data": {
      "image/png": "[encoded data removed]",
      "text/plain": [
       "<Figure size 1440x360 with 1 Axes>"
      ]
     },
     "metadata": {
      "needs_background": "light"
     },
     "output_type": "display_data"
    }
   ],
   "source": [
    "model1.visualize_precision_recall()"
   ]
  }
 ],
 "metadata": {
  "kernelspec": {
   "display_name": "Python 3",
   "language": "python",
   "name": "python3"
  },
  "language_info": {
   "codemirror_mode": {
    "name": "ipython",
    "version": 3
   },
   "file_extension": ".py",
   "mimetype": "text/x-python",
   "name": "python",
   "nbconvert_exporter": "python",
   "pygments_lexer": "ipython3",
   "version": "3.7.4"
  }
 },
 "nbformat": 4,
 "nbformat_minor": 2
}
